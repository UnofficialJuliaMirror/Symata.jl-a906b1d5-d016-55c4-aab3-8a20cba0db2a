{
 "cells": [
  {
   "cell_type": "markdown",
   "metadata": {},
   "source": [
    "# Algebraic Manipulation\n",
    "\n",
    "### This notebook requires the development version of `Symata`"
   ]
  },
  {
   "cell_type": "code",
   "execution_count": 1,
   "metadata": {
    "collapsed": false
   },
   "outputs": [],
   "source": [
    "using Symata; isymata()   # load Symata and enter symata mode"
   ]
  },
  {
   "cell_type": "markdown",
   "metadata": {},
   "source": [
    "`Together` rewrites rational expressions as a single fraction."
   ]
  },
  {
   "cell_type": "code",
   "execution_count": 2,
   "metadata": {
    "collapsed": false
   },
   "outputs": [
    {
     "data": {
      "text/latex": [
       "$$ \\frac{x \\ y + x \\ z + y \\ z}{x \\ y \\ z} $$"
      ],
      "text/plain": [
       "L\"$$ \\frac{x \\ y + x \\ z + y \\ z}{x \\ y \\ z} $$\""
      ]
     },
     "execution_count": 2,
     "metadata": {},
     "output_type": "execute_result"
    }
   ],
   "source": [
    "Together(1/x + 1/y + 1/z)"
   ]
  },
  {
   "cell_type": "code",
   "execution_count": 3,
   "metadata": {
    "collapsed": false
   },
   "outputs": [
    {
     "data": {
      "text/latex": [
       "$$ \\frac{x + y}{x \\ y^{2}} $$"
      ],
      "text/plain": [
       "L\"$$ \\frac{x + y}{x \\ y^{2}} $$\""
      ]
     },
     "execution_count": 3,
     "metadata": {},
     "output_type": "execute_result"
    }
   ],
   "source": [
    "Together(1/(x*y) + 1/y^2) "
   ]
  },
  {
   "cell_type": "code",
   "execution_count": 4,
   "metadata": {
    "collapsed": false
   },
   "outputs": [
    {
     "data": {
      "text/latex": [
       "$$ \\frac{x \\  \\left( 1 + y \\right)  +  \\left( 1 + x \\right)  \\ y}{ \\left( 1 + x \\right)  \\  \\left( 1 + y \\right) } $$"
      ],
      "text/plain": [
       "L\"$$ \\frac{x \\  \\left( 1 + y \\right)  +  \\left( 1 + x \\right)  \\ y}{ \\left( 1 + x \\right)  \\  \\left( 1 + y \\right) } $$\""
      ]
     },
     "execution_count": 4,
     "metadata": {},
     "output_type": "execute_result"
    }
   ],
   "source": [
    "Together(1/(1 + 1/x) + 1/(1 + 1/y))"
   ]
  },
  {
   "cell_type": "markdown",
   "metadata": {},
   "source": [
    "By default, `Together` only works at the topmost level."
   ]
  },
  {
   "cell_type": "code",
   "execution_count": 5,
   "metadata": {
    "collapsed": false
   },
   "outputs": [
    {
     "data": {
      "text/latex": [
       "$$  \\mathbb{e} ^{x^{-1} + y^{-1}} $$"
      ],
      "text/plain": [
       "L\"$$  \\mathbb{e} ^{x^{-1} + y^{-1}} $$\""
      ]
     },
     "execution_count": 5,
     "metadata": {},
     "output_type": "execute_result"
    }
   ],
   "source": [
    "Together(Exp(1/x + 1/y))"
   ]
  },
  {
   "cell_type": "markdown",
   "metadata": {},
   "source": [
    "`Together` is applied at all levels if the option `Deep` is true."
   ]
  },
  {
   "cell_type": "code",
   "execution_count": 6,
   "metadata": {
    "collapsed": false
   },
   "outputs": [
    {
     "data": {
      "text/latex": [
       "$$  \\mathbb{e} ^{\\frac{x + y}{x \\ y}} $$"
      ],
      "text/plain": [
       "L\"$$  \\mathbb{e} ^{\\frac{x + y}{x \\ y}} $$\""
      ]
     },
     "execution_count": 6,
     "metadata": {},
     "output_type": "execute_result"
    }
   ],
   "source": [
    "Together(Exp(1/x + 1/y), Deep => True)"
   ]
  },
  {
   "cell_type": "markdown",
   "metadata": {},
   "source": [
    "`Apart` gives the partial fraction decomposition of a rational expression"
   ]
  },
  {
   "cell_type": "code",
   "execution_count": 7,
   "metadata": {
    "collapsed": false
   },
   "outputs": [
    {
     "data": {
      "text/latex": [
       "$$ \\frac{y}{1 + x} + \\frac{- \\ y}{2 + x} $$"
      ],
      "text/plain": [
       "L\"$$ \\frac{y}{1 + x} + \\frac{- \\ y}{2 + x} $$\""
      ]
     },
     "execution_count": 7,
     "metadata": {},
     "output_type": "execute_result"
    }
   ],
   "source": [
    "Apart(y/(x + 2)/(x + 1), x)"
   ]
  },
  {
   "cell_type": "markdown",
   "metadata": {},
   "source": [
    "If the denominator has non-rational roots, the option ``Full => True`` must be given."
   ]
  },
  {
   "cell_type": "code",
   "execution_count": 8,
   "metadata": {
    "collapsed": false
   },
   "outputs": [
    {
     "data": {
      "text/latex": [
       "$$ \\frac{\\frac{- \\ y}{3} + \\frac{ \\left( -2 \\right)  \\  \\left( \\frac{-1}{2} + \\frac{-1}{2} \\ \\mathbb{i} \\ 3^{\\frac{1}{2}} \\right)  \\ y}{3}}{\\frac{1}{2} + \\frac{1}{2} \\ \\mathbb{i} \\ 3^{\\frac{1}{2}} + x} + \\frac{\\frac{- \\ y}{3} + \\frac{ \\left( -2 \\right)  \\  \\left( \\frac{-1}{2} + \\frac{1}{2} \\ \\mathbb{i} \\ 3^{\\frac{1}{2}} \\right)  \\ y}{3}}{\\frac{1}{2} + \\frac{-1}{2} \\ \\mathbb{i} \\ 3^{\\frac{1}{2}} + x} $$"
      ],
      "text/plain": [
       "L\"$$ \\frac{\\frac{- \\ y}{3} + \\frac{ \\left( -2 \\right)  \\  \\left( \\frac{-1}{2} + \\frac{-1}{2} \\ \\mathbb{i} \\ 3^{\\frac{1}{2}} \\right)  \\ y}{3}}{\\frac{1}{2} + \\frac{1}{2} \\ \\mathbb{i} \\ 3^{\\frac{1}{2}} + x} + \\frac{\\frac{- \\ y}{3} + \\frac{ \\left( -2 \\right)  \\  \\left( \\frac{-1}{2} + \\frac{1}{2} \\ \\mathbb{i} \\ 3^{\\frac{1}{2}} \\right)  \\ y}{3}}{\\frac{1}{2} + \\frac{-1}{2} \\ \\mathbb{i} \\ 3^{\\frac{1}{2}} + x} $$\""
      ]
     },
     "execution_count": 8,
     "metadata": {},
     "output_type": "execute_result"
    }
   ],
   "source": [
    "Apart(y/(x^2 + x + 1), x, Full=>True)"
   ]
  }
 ],
 "metadata": {
  "kernelspec": {
   "display_name": "Julia 0.6.0-dev",
   "language": "julia",
   "name": "julia-0.6"
  },
  "language_info": {
   "file_extension": ".jl",
   "mimetype": "application/julia",
   "name": "julia",
   "version": "0.6.0"
  }
 },
 "nbformat": 4,
 "nbformat_minor": 1
}
