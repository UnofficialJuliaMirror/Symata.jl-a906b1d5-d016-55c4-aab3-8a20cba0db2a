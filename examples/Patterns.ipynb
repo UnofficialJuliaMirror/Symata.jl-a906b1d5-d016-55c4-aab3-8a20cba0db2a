{
 "cells": [
  {
   "cell_type": "markdown",
   "metadata": {},
   "source": [
    "## Using Patterns"
   ]
  },
  {
   "cell_type": "code",
   "execution_count": 1,
   "metadata": {
    "collapsed": true
   },
   "outputs": [],
   "source": [
    "using Symata; isymata()"
   ]
  },
  {
   "cell_type": "markdown",
   "metadata": {},
   "source": [
    "#### Generate all possible traversals of a tree.\n",
    "\n",
    "`C` is a tree:"
   ]
  },
  {
   "cell_type": "code",
   "execution_count": 5,
   "metadata": {
    "collapsed": true
   },
   "outputs": [],
   "source": [
    "C = [a,[[a1,[a12,b12,c12]],[b2,[a22,b22,c22]],[c3,[a32,b32,c32,d32]]]];"
   ]
  },
  {
   "cell_type": "code",
   "execution_count": 3,
   "metadata": {
    "collapsed": true
   },
   "outputs": [],
   "source": [
    "begin\n",
    "trav(tree_List) := Flatten(trav([], tree), 1)\n",
    "trav(accum_List, [x_, y_List]) := Map(yy -> trav([accum, x], yy), y)\n",
    "trav(x_,y_) := Flatten([x,y])\n",
    "end"
   ]
  },
  {
   "cell_type": "code",
   "execution_count": 7,
   "metadata": {
    "collapsed": false,
    "scrolled": true
   },
   "outputs": [
    {
     "data": {
      "text/latex": [
       "$$  \\left[  \\left[ a,a1,a12 \\right] , \\left[ a,a1,b12 \\right] , \\left[ a,a1,c12 \\right] , \\left[ a,b2,a22 \\right] , \\left[ a,b2,b22 \\right] , \\left[ a,b2,c22 \\right] , \\left[ a,c3,a32 \\right] , \\left[ a,c3,b32 \\right] , \\left[ a,c3,c32 \\right] , \\left[ a,c3,d32 \\right]  \\right]  $$"
      ],
      "text/plain": [
       "L\"$$  \\left[  \\left[ a,a1,a12 \\right] , \\left[ a,a1,b12 \\right] , \\left[ a,a1,c12 \\right] , \\left[ a,b2,a22 \\right] , \\left[ a,b2,b22 \\right] , \\left[ a,b2,c22 \\right] , \\left[ a,c3,a32 \\right] , \\left[ a,c3,b32 \\right] , \\left[ a,c3,c32 \\right] , \\left[ a,c3,d32 \\right]  \\right]  $$\""
      ]
     },
     "execution_count": 7,
     "metadata": {},
     "output_type": "execute_result"
    }
   ],
   "source": [
    "trav(C)"
   ]
  },
  {
   "cell_type": "markdown",
   "metadata": {},
   "source": [
    "This example is found at\n",
    "http://mathematica.stackexchange.com/questions/5753/determining-all-possible-traversals-of-a-tree/5756#5756"
   ]
  },
  {
   "cell_type": "code",
   "execution_count": null,
   "metadata": {
    "collapsed": true
   },
   "outputs": [],
   "source": []
  }
 ],
 "metadata": {
  "kernelspec": {
   "display_name": "Julia 0.6.0-dev",
   "language": "julia",
   "name": "julia-0.6"
  },
  "language_info": {
   "file_extension": ".jl",
   "mimetype": "application/julia",
   "name": "julia",
   "version": "0.6.0"
  }
 },
 "nbformat": 4,
 "nbformat_minor": 1
}
