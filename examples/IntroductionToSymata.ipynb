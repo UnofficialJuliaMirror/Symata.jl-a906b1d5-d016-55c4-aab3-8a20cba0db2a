{
 "cells": [
  {
   "cell_type": "markdown",
   "metadata": {},
   "source": [
    "# Introduction to Symata"
   ]
  },
  {
   "cell_type": "markdown",
   "metadata": {},
   "source": [
    "### Note: this notebook requires the development version of `Symata`. Switch to the development version with `Pkg.checkout(\"Symata\")`. Switch back to the latest version with `Pkg.free(\"Symata\")`"
   ]
  },
  {
   "cell_type": "markdown",
   "metadata": {},
   "source": [
    "Load Symata like this"
   ]
  },
  {
   "cell_type": "code",
   "execution_count": 1,
   "metadata": {
    "collapsed": false
   },
   "outputs": [
    {
     "name": "stderr",
     "output_type": "stream",
     "text": [
      "INFO: Recompiling stale cache file /home/lapeyre/.julia/lib/v0.6/Symata.ji for module Symata.\n"
     ]
    }
   ],
   "source": [
    "using Symata;"
   ]
  },
  {
   "cell_type": "markdown",
   "metadata": {
    "collapsed": true
   },
   "source": [
    "Symata is a computer language written in Julia. After typing `using Symata`, we are still in Julia mode, and expressions are interpreted as Julia code"
   ]
  },
  {
   "cell_type": "code",
   "execution_count": 2,
   "metadata": {
    "collapsed": false
   },
   "outputs": [
    {
     "data": {
      "text/plain": [
       "true"
      ]
     },
     "execution_count": 2,
     "metadata": {},
     "output_type": "execute_result"
    }
   ],
   "source": [
    "length(zeros(10)) ==  10"
   ]
  },
  {
   "cell_type": "markdown",
   "metadata": {},
   "source": [
    "In `IJulia` (Jupyter), type `isymata()` to enter `Symata` mode. At the command line REPL, type `=` at the beginning of a line to enter `Symata` mode."
   ]
  },
  {
   "cell_type": "code",
   "execution_count": 3,
   "metadata": {
    "collapsed": true
   },
   "outputs": [],
   "source": [
    "isymata()"
   ]
  },
  {
   "cell_type": "markdown",
   "metadata": {},
   "source": [
    "**Note**: to leave `Symata` mode and return to `Julia` mode, type `Julia()` in `IJulia`, or backspace at the command line REPL.\n",
    "\n",
    "Now we can enter `Symata` expressions."
   ]
  },
  {
   "cell_type": "markdown",
   "metadata": {},
   "source": [
    "### Entering expressions\n",
    "\n",
    "You enter expressions and Symata evaluates them"
   ]
  },
  {
   "cell_type": "code",
   "execution_count": 4,
   "metadata": {
    "collapsed": false
   },
   "outputs": [
    {
     "data": {
      "text/latex": [
       "$$ \\text{Cos} \\!  \\left(  \\pi  \\ x \\right)  $$"
      ],
      "text/plain": [
       "L\"$$ \\text{Cos} \\!  \\left(  \\pi  \\ x \\right)  $$\""
      ]
     },
     "execution_count": 4,
     "metadata": {},
     "output_type": "execute_result"
    }
   ],
   "source": [
    "Cos(π * x)"
   ]
  },
  {
   "cell_type": "code",
   "execution_count": 5,
   "metadata": {
    "collapsed": false
   },
   "outputs": [
    {
     "data": {
      "text/latex": [
       "$$ \\frac{1}{3} $$"
      ],
      "text/plain": [
       "L\"$$ \\frac{1}{3} $$\""
      ]
     },
     "execution_count": 5,
     "metadata": {},
     "output_type": "execute_result"
    }
   ],
   "source": [
    "x = 1/3"
   ]
  },
  {
   "cell_type": "code",
   "execution_count": 6,
   "metadata": {
    "collapsed": false
   },
   "outputs": [
    {
     "data": {
      "text/latex": [
       "$$ \\frac{1}{2} $$"
      ],
      "text/plain": [
       "L\"$$ \\frac{1}{2} $$\""
      ]
     },
     "execution_count": 6,
     "metadata": {},
     "output_type": "execute_result"
    }
   ],
   "source": [
    "Out(4)"
   ]
  },
  {
   "cell_type": "code",
   "execution_count": 7,
   "metadata": {
    "collapsed": false
   },
   "outputs": [
    {
     "data": {
      "text/latex": [
       "$$ \\frac{1}{6} $$"
      ],
      "text/plain": [
       "L\"$$ \\frac{1}{6} $$\""
      ]
     },
     "execution_count": 7,
     "metadata": {},
     "output_type": "execute_result"
    }
   ],
   "source": [
    "x = 1/6"
   ]
  },
  {
   "cell_type": "code",
   "execution_count": 8,
   "metadata": {
    "collapsed": false
   },
   "outputs": [
    {
     "data": {
      "text/latex": [
       "$$ \\frac{3^{\\frac{1}{2}}}{2} $$"
      ],
      "text/plain": [
       "L\"$$ \\frac{3^{\\frac{1}{2}}}{2} $$\""
      ]
     },
     "execution_count": 8,
     "metadata": {},
     "output_type": "execute_result"
    }
   ],
   "source": [
    "Out(4)"
   ]
  },
  {
   "cell_type": "code",
   "execution_count": 9,
   "metadata": {
    "collapsed": true
   },
   "outputs": [],
   "source": [
    "Clear(x)"
   ]
  },
  {
   "cell_type": "code",
   "execution_count": 10,
   "metadata": {
    "collapsed": false
   },
   "outputs": [
    {
     "data": {
      "text/latex": [
       "$$ \\text{Cos} \\!  \\left(  \\pi  \\ x \\right)  $$"
      ],
      "text/plain": [
       "L\"$$ \\text{Cos} \\!  \\left(  \\pi  \\ x \\right)  $$\""
      ]
     },
     "execution_count": 10,
     "metadata": {},
     "output_type": "execute_result"
    }
   ],
   "source": [
    "Out(4)"
   ]
  },
  {
   "cell_type": "markdown",
   "metadata": {},
   "source": [
    "It is clear what happened above. If `x` is not set to a value, then `Cos(π * x)` can't be written in a simpler form. If we set `x` to some particular values, then `Cos(π * x)` *can* be reduced to a simpler form.\n",
    "\n",
    "*(you can skip the following the first time through)*\n",
    "\n",
    "- But, the reason `Symata` understands this is a consquence of the procedure it follows in evaluating (almost) all expressions. `Symata` evaluates expressions to a fixed point. More precisely, when an expression is given as input, `Symata` descends depth-first evaluating each subexpression to a fixed point and finally the top-level expression to a fixed point. When `Cos(π * x)` is first evaluated, each of `π` and `x` evaluates to itself so that `π * x` is already at a fixed point. Since there is no rule for evaluating `Cos(π * x)` for fixed `π * x`, `Cos(π * x)` is also at a fixed point.\n",
    "\n",
    "- The expression `x=1/3` means that, whenever `x` is encountered, it should evaluate to `1/3`. The expression `Out(4)` evaluates to the fourth output cell, which is `Cos(π * x)`. Then `π` evaluates to iteself, `x` evaluates to `1`, so that `π * x` evaluates to `π/3`. There is a rule saying that `Cos(x/3)` evaluates to `1/2`.\n",
    "\n",
    "- `Clear(x)` says that `x` should once again evaluate to itself. Then evaluating `Out(4)` follows the same evaluation sequence, leading to `Cos(π * x)`"
   ]
  },
  {
   "cell_type": "markdown",
   "metadata": {},
   "source": [
    "### Assigning values\n",
    "\n",
    "There are several kinds of assingment in Symata. The two most common are  `=` (or `Set`) and `:=` (or `SetDelayed`).\n",
    "`Set` immediatley evaluates the right hand side and binds the left hand side to the result. `SetDelayed` does not evaluate the right hand side when the assignment is made. It evaluates the right hand side every time the left hand side is subsequently evalutated and then binds the result.\n",
    "\n",
    "The following demonstrates the difference."
   ]
  },
  {
   "cell_type": "code",
   "execution_count": 11,
   "metadata": {
    "collapsed": true
   },
   "outputs": [],
   "source": [
    "(\n",
    "  x = 1,\n",
    "  a := x,\n",
    "  b = x,\n",
    "  c = a,\n",
    "  d := a\n",
    "  )"
   ]
  },
  {
   "cell_type": "code",
   "execution_count": 12,
   "metadata": {
    "collapsed": false
   },
   "outputs": [
    {
     "data": {
      "text/latex": [
       "$$ [1,1,1,1,1] $$"
      ],
      "text/plain": [
       "L\"$$ [1,1,1,1,1] $$\""
      ]
     },
     "execution_count": 12,
     "metadata": {},
     "output_type": "execute_result"
    }
   ],
   "source": [
    "[x,a,b,c,d]"
   ]
  },
  {
   "cell_type": "code",
   "execution_count": 13,
   "metadata": {
    "collapsed": true
   },
   "outputs": [],
   "source": [
    "ClearAll(x)"
   ]
  },
  {
   "cell_type": "code",
   "execution_count": 14,
   "metadata": {
    "collapsed": false
   },
   "outputs": [
    {
     "data": {
      "text/latex": [
       "$$ [x,x,1,1,x] $$"
      ],
      "text/plain": [
       "L\"$$ [x,x,1,1,x] $$\""
      ]
     },
     "execution_count": 14,
     "metadata": {},
     "output_type": "execute_result"
    }
   ],
   "source": [
    "[x,a,b,c,d]"
   ]
  },
  {
   "cell_type": "code",
   "execution_count": 15,
   "metadata": {
    "collapsed": false
   },
   "outputs": [
    {
     "data": {
      "text/latex": [
       "$$ [x,z,1,1,z] $$"
      ],
      "text/plain": [
       "L\"$$ [x,z,1,1,z] $$\""
      ]
     },
     "execution_count": 15,
     "metadata": {},
     "output_type": "execute_result"
    }
   ],
   "source": [
    "(a = z, [x,a,b,c,d])"
   ]
  },
  {
   "cell_type": "code",
   "execution_count": 16,
   "metadata": {
    "collapsed": false
   },
   "outputs": [],
   "source": [
    "ClearAll(x,a,b,c,d)"
   ]
  },
  {
   "cell_type": "markdown",
   "metadata": {},
   "source": [
    "## Expressions and parts of expressions\n",
    "\n",
    "*Expression* is the central concept in Symata. In general, expressions are trees whose branches and leaves are other expressions. You can manipulate these expressions."
   ]
  },
  {
   "cell_type": "markdown",
   "metadata": {},
   "source": [
    "Every expression has a `Head`. For function-like expressions, the `Head` is the function name. For atomic expressions, the `Head` usually is a data type."
   ]
  },
  {
   "cell_type": "code",
   "execution_count": 17,
   "metadata": {
    "collapsed": false
   },
   "outputs": [
    {
     "data": {
      "text/latex": [
       "$$ [\\text{Symbol},\\text{+},\\text{List},\\text{Cos},f,\\text{Int64},\\text{Float64},\\text{BigInt},\\text{BigFloat}] $$"
      ],
      "text/plain": [
       "L\"$$ [\\text{Symbol},\\text{+},\\text{List},\\text{Cos},f,\\text{Int64},\\text{Float64},\\text{BigInt},\\text{BigFloat}] $$\""
      ]
     },
     "execution_count": 17,
     "metadata": {},
     "output_type": "execute_result"
    }
   ],
   "source": [
    "Map(Head, [x, x + y, [x,y], Cos(x), f(x), 3, 3.0, BI(3), BF(3)])  # apply the fun"
   ]
  },
  {
   "cell_type": "code",
   "execution_count": 18,
   "metadata": {
    "collapsed": false,
    "scrolled": false
   },
   "outputs": [
    {
     "data": {
      "text/latex": [
       "$$ x^{3} + 3 \\ x^{2} \\ y + 3 \\ x \\ y^{2} + y^{3} $$"
      ],
      "text/plain": [
       "L\"$$ x^{3} + 3 \\ x^{2} \\ y + 3 \\ x \\ y^{2} + y^{3} $$\""
      ]
     },
     "execution_count": 18,
     "metadata": {},
     "output_type": "execute_result"
    }
   ],
   "source": [
    "expr = Expand((x+y)^3)"
   ]
  },
  {
   "cell_type": "code",
   "execution_count": 19,
   "metadata": {
    "collapsed": false
   },
   "outputs": [
    {
     "data": {
      "text/plain": [
       "Plus(Power(x,3),Times(3,Power(x,2),y),Times(3,x,Power(y,2)),Power(y,3))"
      ]
     },
     "execution_count": 19,
     "metadata": {},
     "output_type": "execute_result"
    }
   ],
   "source": [
    "FullForm(expr)   # This shows the internal form. The tree is explicit"
   ]
  },
  {
   "cell_type": "code",
   "execution_count": 20,
   "metadata": {
    "collapsed": false
   },
   "outputs": [
    {
     "data": {
      "text/latex": [
       "$$ x $$"
      ],
      "text/plain": [
       "L\"$$ x $$\""
      ]
     },
     "execution_count": 20,
     "metadata": {},
     "output_type": "execute_result"
    }
   ],
   "source": [
    "expr[2,2,1]   # Return a part of the expression by index into the tree"
   ]
  },
  {
   "cell_type": "code",
   "execution_count": 21,
   "metadata": {
    "collapsed": false,
    "scrolled": true
   },
   "outputs": [
    {
     "data": {
      "text/latex": [
       "$$ z $$"
      ],
      "text/plain": [
       "L\"$$ z $$\""
      ]
     },
     "execution_count": 21,
     "metadata": {},
     "output_type": "execute_result"
    }
   ],
   "source": [
    "expr[2,2,1] = z;  # Replace a part of the expression"
   ]
  },
  {
   "cell_type": "code",
   "execution_count": 22,
   "metadata": {
    "collapsed": false
   },
   "outputs": [
    {
     "data": {
      "text/latex": [
       "$$ x^{3} + 3 \\ z^{2} \\ y + 3 \\ x \\ y^{2} + y^{3} $$"
      ],
      "text/plain": [
       "L\"$$ x^{3} + 3 \\ z^{2} \\ y + 3 \\ x \\ y^{2} + y^{3} $$\""
      ]
     },
     "execution_count": 22,
     "metadata": {},
     "output_type": "execute_result"
    }
   ],
   "source": [
    "expr"
   ]
  },
  {
   "cell_type": "code",
   "execution_count": 23,
   "metadata": {
    "collapsed": false
   },
   "outputs": [
    {
     "data": {
      "text/latex": [
       "$$ z $$"
      ],
      "text/plain": [
       "L\"$$ z $$\""
      ]
     },
     "execution_count": 23,
     "metadata": {},
     "output_type": "execute_result"
    }
   ],
   "source": [
    "Part(expr,2,2,1)  # You can do the same thing with Part"
   ]
  },
  {
   "cell_type": "code",
   "execution_count": 24,
   "metadata": {
    "collapsed": false,
    "scrolled": true
   },
   "outputs": [
    {
     "data": {
      "text/latex": [
       "$$ y $$"
      ],
      "text/plain": [
       "L\"$$ y $$\""
      ]
     },
     "execution_count": 24,
     "metadata": {},
     "output_type": "execute_result"
    }
   ],
   "source": [
    "Expand((x+y)^3)[4,1]   # You can get parts of expressions directly"
   ]
  },
  {
   "cell_type": "code",
   "execution_count": 25,
   "metadata": {
    "collapsed": true
   },
   "outputs": [],
   "source": [
    "expr = Expand((x+y)^20);"
   ]
  },
  {
   "cell_type": "code",
   "execution_count": 26,
   "metadata": {
    "collapsed": false
   },
   "outputs": [
    {
     "data": {
      "text/latex": [
       "$$ 77520 \\ x^{7} \\ y^{13} + 15504 \\ x^{5} \\ y^{15} + 1140 \\ x^{3} \\ y^{17} $$"
      ],
      "text/plain": [
       "L\"$$ 77520 \\ x^{7} \\ y^{13} + 15504 \\ x^{5} \\ y^{15} + 1140 \\ x^{3} \\ y^{17} $$\""
      ]
     },
     "execution_count": 26,
     "metadata": {},
     "output_type": "execute_result"
    }
   ],
   "source": [
    "expr[14:18:2]  # Parts 14 through 18 with step 2"
   ]
  },
  {
   "cell_type": "code",
   "execution_count": 27,
   "metadata": {
    "collapsed": true
   },
   "outputs": [],
   "source": [
    "ClearAll(expr)"
   ]
  },
  {
   "cell_type": "markdown",
   "metadata": {},
   "source": [
    "## Definition\n",
    "\n",
    "`Definition` shows the definitions associated with a symbol"
   ]
  },
  {
   "cell_type": "code",
   "execution_count": 28,
   "metadata": {
    "collapsed": true
   },
   "outputs": [],
   "source": [
    "ClearAll(x,a,b,c,d)  # delete definitions from the previous example"
   ]
  },
  {
   "cell_type": "code",
   "execution_count": 29,
   "metadata": {
    "collapsed": false
   },
   "outputs": [
    {
     "data": {
      "text/latex": [
       "$$ 1 $$"
      ],
      "text/plain": [
       "L\"$$ 1 $$\""
      ]
     },
     "execution_count": 29,
     "metadata": {},
     "output_type": "execute_result"
    }
   ],
   "source": [
    "a = 1"
   ]
  },
  {
   "cell_type": "code",
   "execution_count": 30,
   "metadata": {
    "collapsed": false
   },
   "outputs": [
    {
     "name": "stdout",
     "output_type": "stream",
     "text": [
      "a=1\n",
      "\n"
     ]
    }
   ],
   "source": [
    "Definition(a)"
   ]
  },
  {
   "cell_type": "code",
   "execution_count": 31,
   "metadata": {
    "collapsed": true
   },
   "outputs": [],
   "source": [
    "a := x"
   ]
  },
  {
   "cell_type": "code",
   "execution_count": 32,
   "metadata": {
    "collapsed": false
   },
   "outputs": [
    {
     "name": "stdout",
     "output_type": "stream",
     "text": [
      "a:=x\n",
      "\n"
     ]
    }
   ],
   "source": [
    "Definition(a)   # This overwrites the previous definition"
   ]
  },
  {
   "cell_type": "code",
   "execution_count": 33,
   "metadata": {
    "collapsed": true
   },
   "outputs": [],
   "source": [
    "( f(x_) := x^2, f(x_, y_) := x + y )"
   ]
  },
  {
   "cell_type": "code",
   "execution_count": 34,
   "metadata": {
    "collapsed": false
   },
   "outputs": [
    {
     "name": "stdout",
     "output_type": "stream",
     "text": [
      "f(x_):=(x^2)\n",
      "(f((x_),y_)):=(x + y)\n",
      "\n"
     ]
    }
   ],
   "source": [
    "Definition(f)"
   ]
  },
  {
   "cell_type": "code",
   "execution_count": 35,
   "metadata": {
    "collapsed": true
   },
   "outputs": [],
   "source": [
    "ClearAll(f,a)"
   ]
  },
  {
   "cell_type": "markdown",
   "metadata": {},
   "source": [
    "## Cpu time, memory, and tracing the evaluation\n"
   ]
  },
  {
   "cell_type": "code",
   "execution_count": 36,
   "metadata": {
    "collapsed": false
   },
   "outputs": [
    {
     "data": {
      "text/latex": [
       "$$ [0.267564496,\\text{Null}] $$"
      ],
      "text/plain": [
       "L\"$$ [0.267564496,\\text{Null}] $$\""
      ]
     },
     "execution_count": 36,
     "metadata": {},
     "output_type": "execute_result"
    }
   ],
   "source": [
    "Timing((Range(10^6), Null ) )   # time a single expression"
   ]
  },
  {
   "cell_type": "markdown",
   "metadata": {},
   "source": [
    "`Time` toggles the timing of every expression entered. Memory allocated and the number of attempts to apply a user defined rule are also printed."
   ]
  },
  {
   "cell_type": "code",
   "execution_count": 37,
   "metadata": {
    "collapsed": false
   },
   "outputs": [
    {
     "data": {
      "text/latex": [
       "$$ \\text{False} $$"
      ],
      "text/plain": [
       "L\"$$ \\text{False} $$\""
      ]
     },
     "execution_count": 37,
     "metadata": {},
     "output_type": "execute_result"
    }
   ],
   "source": [
    "Time(True)  #  toggle timing all expressions. returns the previous value"
   ]
  },
  {
   "cell_type": "code",
   "execution_count": 38,
   "metadata": {
    "collapsed": false
   },
   "outputs": [
    {
     "name": "stdout",
     "output_type": "stream",
     "text": [
      "  0.030886 seconds (1.00 M allocations: 22.944 MB, 35.49% gc time)\n",
      "tryrule count: downvalue 0, upvalue 0\n"
     ]
    }
   ],
   "source": [
    "Range(10^6);"
   ]
  },
  {
   "cell_type": "code",
   "execution_count": 39,
   "metadata": {
    "collapsed": false
   },
   "outputs": [
    {
     "name": "stdout",
     "output_type": "stream",
     "text": [
      "  0.000044 seconds (18 allocations: 1.563 KB)\n",
      "tryrule count: downvalue 0, upvalue 0\n"
     ]
    }
   ],
   "source": [
    "Time(False);"
   ]
  },
  {
   "cell_type": "code",
   "execution_count": 40,
   "metadata": {
    "collapsed": false
   },
   "outputs": [
    {
     "name": "stdout",
     "output_type": "stream",
     "text": [
      "1<< False\n"
     ]
    },
    {
     "data": {
      "text/latex": [
       "$$ \\text{False} $$"
      ],
      "text/plain": [
       "L\"$$ \\text{False} $$\""
      ]
     },
     "execution_count": 40,
     "metadata": {},
     "output_type": "execute_result"
    }
   ],
   "source": [
    "Trace(True);  # Trace evaluation"
   ]
  },
  {
   "cell_type": "code",
   "execution_count": 41,
   "metadata": {
    "collapsed": false
   },
   "outputs": [
    {
     "name": "stdout",
     "output_type": "stream",
     "text": [
      ">>1 (a + b)*(a + b)\n",
      " >>2 a + b\n",
      " 2<< a + b\n",
      " >>2 a + b\n",
      " 2<< a + b\n",
      "1<< (a + b)^(1 + 1)\n",
      ">>1 (a + b)^(1 + 1)\n",
      " >>2 1 + 1\n",
      " 2<< 2\n",
      "1<< (a + b)^2\n",
      ">>1 (a + b)^2\n",
      "1<< (a + b)^2\n"
     ]
    },
    {
     "data": {
      "text/latex": [
       "$$  \\left( a + b \\right) ^{2} $$"
      ],
      "text/plain": [
       "L\"$$  \\left( a + b \\right) ^{2} $$\""
      ]
     },
     "execution_count": 41,
     "metadata": {},
     "output_type": "execute_result"
    }
   ],
   "source": [
    "(a+b)*(a+b)"
   ]
  },
  {
   "cell_type": "code",
   "execution_count": 42,
   "metadata": {
    "collapsed": false
   },
   "outputs": [
    {
     "name": "stdout",
     "output_type": "stream",
     "text": [
      ">>1 Trace(False)\n"
     ]
    }
   ],
   "source": [
    "Trace(False);"
   ]
  },
  {
   "cell_type": "code",
   "execution_count": 43,
   "metadata": {
    "collapsed": false
   },
   "outputs": [
    {
     "name": "stdout",
     "output_type": "stream",
     "text": [
      "Help( LeafCount)\n",
      "\n",
      "LeafCount(expr) gives the number of indivisible (Part can't be taken) elements in expr.\n",
      "This amounts to counting all the Heads and all of the arguments that are not of type Mxpr.\n",
      "A more accurate name is NodeCount.\n",
      "\n",
      " Attributes(LeafCount) = [Protected]\n"
     ]
    }
   ],
   "source": [
    "? LeafCount"
   ]
  },
  {
   "cell_type": "code",
   "execution_count": 44,
   "metadata": {
    "collapsed": false
   },
   "outputs": [
    {
     "data": {
      "text/latex": [
       "$$ 19 $$"
      ],
      "text/plain": [
       "L\"$$ 19 $$\""
      ]
     },
     "execution_count": 44,
     "metadata": {},
     "output_type": "execute_result"
    }
   ],
   "source": [
    "LeafCount(Expand((a+b)^3))"
   ]
  },
  {
   "cell_type": "code",
   "execution_count": 45,
   "metadata": {
    "collapsed": false
   },
   "outputs": [
    {
     "data": {
      "text/latex": [
       "$$ 446 $$"
      ],
      "text/plain": [
       "L\"$$ 446 $$\""
      ]
     },
     "execution_count": 45,
     "metadata": {},
     "output_type": "execute_result"
    }
   ],
   "source": [
    "ByteCount(Expand((a+b)^3))"
   ]
  },
  {
   "cell_type": "code",
   "execution_count": 46,
   "metadata": {
    "collapsed": false
   },
   "outputs": [
    {
     "name": "stdout",
     "output_type": "stream",
     "text": [
      "Help( Depth)\n",
      "\n",
      "Depth(expr) gives the maximum number of indices required to specify\n",
      "any part of expr, plus 1.\n",
      "\n",
      " Attributes(Depth) = [Protected]\n"
     ]
    }
   ],
   "source": [
    "? Depth"
   ]
  },
  {
   "cell_type": "code",
   "execution_count": 47,
   "metadata": {
    "collapsed": false
   },
   "outputs": [
    {
     "data": {
      "text/latex": [
       "$$ 4 $$"
      ],
      "text/plain": [
       "L\"$$ 4 $$\""
      ]
     },
     "execution_count": 47,
     "metadata": {},
     "output_type": "execute_result"
    }
   ],
   "source": [
    "Depth(Expand((a+b)^3))"
   ]
  },
  {
   "cell_type": "code",
   "execution_count": 48,
   "metadata": {
    "collapsed": false
   },
   "outputs": [
    {
     "data": {
      "text/plain": [
       "Plus(Power(a,3),Times(3,Power(a,2),b),Times(3,a,Power(b,2)),Power(b,3))"
      ]
     },
     "execution_count": 48,
     "metadata": {},
     "output_type": "execute_result"
    }
   ],
   "source": [
    "FullForm(Expand((a+b)^3))  # Examine the tree"
   ]
  },
  {
   "cell_type": "code",
   "execution_count": 49,
   "metadata": {
    "collapsed": false
   },
   "outputs": [
    {
     "data": {
      "text/latex": [
       "$$ a $$"
      ],
      "text/plain": [
       "L\"$$ a $$\""
      ]
     },
     "execution_count": 49,
     "metadata": {},
     "output_type": "execute_result"
    }
   ],
   "source": [
    "Expand((a+b)^3)[2,2,1]    # One of the deepest parts"
   ]
  },
  {
   "cell_type": "markdown",
   "metadata": {},
   "source": [
    "## Calculations using expressions or functions\n",
    "\n",
    "Here are a few ways to compute an integral"
   ]
  },
  {
   "cell_type": "code",
   "execution_count": 50,
   "metadata": {
    "collapsed": false
   },
   "outputs": [
    {
     "data": {
      "text/latex": [
       "$$ \\text{ArcTan} \\!  \\left( x \\right)  $$"
      ],
      "text/plain": [
       "L\"$$ \\text{ArcTan} \\!  \\left( x \\right)  $$\""
      ]
     },
     "execution_count": 50,
     "metadata": {},
     "output_type": "execute_result"
    }
   ],
   "source": [
    "Integrate( (1+x^2)^(-1), x)"
   ]
  },
  {
   "cell_type": "code",
   "execution_count": 51,
   "metadata": {
    "collapsed": true
   },
   "outputs": [],
   "source": [
    "expr = 1/(1+x^2);"
   ]
  },
  {
   "cell_type": "code",
   "execution_count": 52,
   "metadata": {
    "collapsed": false
   },
   "outputs": [
    {
     "data": {
      "text/latex": [
       "$$ \\text{ArcTan} \\!  \\left( x \\right)  $$"
      ],
      "text/plain": [
       "L\"$$ \\text{ArcTan} \\!  \\left( x \\right)  $$\""
      ]
     },
     "execution_count": 52,
     "metadata": {},
     "output_type": "execute_result"
    }
   ],
   "source": [
    "Integrate(expr, x)"
   ]
  },
  {
   "cell_type": "code",
   "execution_count": 53,
   "metadata": {
    "collapsed": true
   },
   "outputs": [],
   "source": [
    "f(x_) := 1/(1+x^2)"
   ]
  },
  {
   "cell_type": "code",
   "execution_count": 54,
   "metadata": {
    "collapsed": false
   },
   "outputs": [
    {
     "data": {
      "text/latex": [
       "$$ \\text{ArcTan} \\!  \\left( y \\right)  $$"
      ],
      "text/plain": [
       "L\"$$ \\text{ArcTan} \\!  \\left( y \\right)  $$\""
      ]
     },
     "execution_count": 54,
     "metadata": {},
     "output_type": "execute_result"
    }
   ],
   "source": [
    "Integrate(f(y), y)"
   ]
  },
  {
   "cell_type": "code",
   "execution_count": 55,
   "metadata": {
    "collapsed": false
   },
   "outputs": [
    {
     "data": {
      "text/latex": [
       "$$  \\left( 1 + x^{2} \\right) ^{-1} $$"
      ],
      "text/plain": [
       "L\"$$  \\left( 1 + x^{2} \\right) ^{-1} $$\""
      ]
     },
     "execution_count": 55,
     "metadata": {},
     "output_type": "execute_result"
    }
   ],
   "source": [
    "g(x_) = expr # Note we do not use \":=\""
   ]
  },
  {
   "cell_type": "code",
   "execution_count": 56,
   "metadata": {
    "collapsed": false
   },
   "outputs": [],
   "source": [
    "ClearAll(expr)  # We did not use SetDelay, so we can delete expr"
   ]
  },
  {
   "cell_type": "code",
   "execution_count": 57,
   "metadata": {
    "collapsed": false
   },
   "outputs": [
    {
     "data": {
      "text/latex": [
       "$$ \\text{ArcTan} \\!  \\left( y \\right)  $$"
      ],
      "text/plain": [
       "L\"$$ \\text{ArcTan} \\!  \\left( y \\right)  $$\""
      ]
     },
     "execution_count": 57,
     "metadata": {},
     "output_type": "execute_result"
    }
   ],
   "source": [
    "Integrate(g(y),y)"
   ]
  },
  {
   "cell_type": "markdown",
   "metadata": {},
   "source": [
    "Note: Trying to use a Julia function `h = :( x -> 1/(1+x^2))` will *not* work."
   ]
  },
  {
   "cell_type": "code",
   "execution_count": 58,
   "metadata": {
    "collapsed": true
   },
   "outputs": [],
   "source": [
    "ClearAll(f,g,expr)"
   ]
  },
  {
   "cell_type": "code",
   "execution_count": 59,
   "metadata": {
    "collapsed": false
   },
   "outputs": [
    {
     "data": {
      "text/latex": [
       "$$ \\int f \\!  \\left( y \\right)  \\,  \\mathbb{d}y $$"
      ],
      "text/plain": [
       "L\"$$ \\int f \\!  \\left( y \\right)  \\,  \\mathbb{d}y $$\""
      ]
     },
     "execution_count": 59,
     "metadata": {},
     "output_type": "execute_result"
    }
   ],
   "source": [
    "Integrate(f(y), y)  # The integral can no longer be reduced"
   ]
  },
  {
   "cell_type": "markdown",
   "metadata": {},
   "source": [
    "## Patterns and Matching\n",
    "\n",
    "A `Blank` with no constraints matches everything"
   ]
  },
  {
   "cell_type": "code",
   "execution_count": 60,
   "metadata": {
    "collapsed": false
   },
   "outputs": [
    {
     "data": {
      "text/latex": [
       "$$ \\text{True} $$"
      ],
      "text/plain": [
       "L\"$$ \\text{True} $$\""
      ]
     },
     "execution_count": 60,
     "metadata": {},
     "output_type": "execute_result"
    }
   ],
   "source": [
    "MatchQ(z,_)"
   ]
  },
  {
   "cell_type": "code",
   "execution_count": 61,
   "metadata": {
    "collapsed": false
   },
   "outputs": [
    {
     "data": {
      "text/latex": [
       "$$ [\\text{True},\\text{True},\\text{True},\\text{True}] $$"
      ],
      "text/plain": [
       "L\"$$ [\\text{True},\\text{True},\\text{True},\\text{True}] $$\""
      ]
     },
     "execution_count": 61,
     "metadata": {},
     "output_type": "execute_result"
    }
   ],
   "source": [
    "Map(MatchQ(_), [1,\"string\", a+b, 1/3])  # MatchQ does Currying with the first argument"
   ]
  },
  {
   "cell_type": "markdown",
   "metadata": {},
   "source": [
    "`_head` is a `Blank` that only matches expressions with `Head` equal to `head`. "
   ]
  },
  {
   "cell_type": "code",
   "execution_count": 62,
   "metadata": {
    "collapsed": false
   },
   "outputs": [
    {
     "data": {
      "text/plain": [
       "Blank(Integer)"
      ]
     },
     "execution_count": 62,
     "metadata": {},
     "output_type": "execute_result"
    }
   ],
   "source": [
    "FullForm(_Integer)  # underscore is shorthand for Blank"
   ]
  },
  {
   "cell_type": "code",
   "execution_count": 63,
   "metadata": {
    "collapsed": false
   },
   "outputs": [
    {
     "data": {
      "text/latex": [
       "$$ \\text{True} $$"
      ],
      "text/plain": [
       "L\"$$ \\text{True} $$\""
      ]
     },
     "execution_count": 63,
     "metadata": {},
     "output_type": "execute_result"
    }
   ],
   "source": [
    "MatchQ(1, _Integer)"
   ]
  },
  {
   "cell_type": "markdown",
   "metadata": {},
   "source": [
    "Use Currying to define a predicate function"
   ]
  },
  {
   "cell_type": "code",
   "execution_count": 64,
   "metadata": {
    "collapsed": false
   },
   "outputs": [],
   "source": [
    "myintq = MatchQ(_Integer);"
   ]
  },
  {
   "cell_type": "markdown",
   "metadata": {},
   "source": [
    "Not all rational numbers are integers"
   ]
  },
  {
   "cell_type": "code",
   "execution_count": 65,
   "metadata": {
    "collapsed": false
   },
   "outputs": [
    {
     "data": {
      "text/latex": [
       "$$ [\\text{False},\\text{True},\\text{False},\\text{True},\\text{False},\\text{True},\\text{False},\\text{True},\\text{False},\\text{True}] $$"
      ],
      "text/plain": [
       "L\"$$ [\\text{False},\\text{True},\\text{False},\\text{True},\\text{False},\\text{True},\\text{False},\\text{True},\\text{False},\\text{True}] $$\""
      ]
     },
     "execution_count": 65,
     "metadata": {},
     "output_type": "execute_result"
    }
   ],
   "source": [
    "Map(myintq, Range(1/2,5,1/2))"
   ]
  },
  {
   "cell_type": "code",
   "execution_count": 66,
   "metadata": {
    "collapsed": false
   },
   "outputs": [
    {
     "data": {
      "text/latex": [
       "$$ \\text{True} $$"
      ],
      "text/plain": [
       "L\"$$ \\text{True} $$\""
      ]
     },
     "execution_count": 66,
     "metadata": {},
     "output_type": "execute_result"
    }
   ],
   "source": [
    "MatchQ(b^2, _^2)  # Match power with exponent equal to 2"
   ]
  },
  {
   "cell_type": "code",
   "execution_count": 67,
   "metadata": {
    "collapsed": false
   },
   "outputs": [
    {
     "data": {
      "text/latex": [
       "$$ \\text{True} $$"
      ],
      "text/plain": [
       "L\"$$ \\text{True} $$\""
      ]
     },
     "execution_count": 67,
     "metadata": {},
     "output_type": "execute_result"
    }
   ],
   "source": [
    "MatchQ(b^3, _^_)   # Match any power"
   ]
  },
  {
   "cell_type": "code",
   "execution_count": 68,
   "metadata": {
    "collapsed": false
   },
   "outputs": [
    {
     "data": {
      "text/latex": [
       "$$ \\text{True} $$"
      ],
      "text/plain": [
       "L\"$$ \\text{True} $$\""
      ]
     },
     "execution_count": 68,
     "metadata": {},
     "output_type": "execute_result"
    }
   ],
   "source": [
    "MatchQ((b+c)^3, _^_)"
   ]
  },
  {
   "cell_type": "code",
   "execution_count": 69,
   "metadata": {
    "collapsed": false,
    "scrolled": true
   },
   "outputs": [
    {
     "data": {
      "text/latex": [
       "$$ \\text{False} $$"
      ],
      "text/plain": [
       "L\"$$ \\text{False} $$\""
      ]
     },
     "execution_count": 69,
     "metadata": {},
     "output_type": "execute_result"
    }
   ],
   "source": [
    "MatchQ(b^1, _^_)"
   ]
  },
  {
   "cell_type": "markdown",
   "metadata": {},
   "source": [
    "This failed because `b^1` evaluates to `b`, which does not have the structure of a power"
   ]
  },
  {
   "cell_type": "markdown",
   "metadata": {},
   "source": [
    "The pattern can be complex with blanks deep in an expression."
   ]
  },
  {
   "cell_type": "code",
   "execution_count": 70,
   "metadata": {
    "collapsed": false
   },
   "outputs": [
    {
     "data": {
      "text/latex": [
       "$$ [\\text{True},\\text{False},\\text{False}] $$"
      ],
      "text/plain": [
       "L\"$$ [\\text{True},\\text{False},\\text{False}] $$\""
      ]
     },
     "execution_count": 70,
     "metadata": {},
     "output_type": "execute_result"
    }
   ],
   "source": [
    "Map(MatchQ(f(x_^2)), [f(b^2), f(b^3), g(b^2)])"
   ]
  },
  {
   "cell_type": "markdown",
   "metadata": {},
   "source": [
    "Specify a \"function\" `Head` that must match"
   ]
  },
  {
   "cell_type": "code",
   "execution_count": 71,
   "metadata": {
    "collapsed": false
   },
   "outputs": [
    {
     "data": {
      "text/latex": [
       "$$ [\\text{True},\\text{True},\\text{False}] $$"
      ],
      "text/plain": [
       "L\"$$ [\\text{True},\\text{True},\\text{False}] $$\""
      ]
     },
     "execution_count": 71,
     "metadata": {},
     "output_type": "execute_result"
    }
   ],
   "source": [
    "Map( MatchQ(_gg), [gg(x+y), gg(x), g(x)])"
   ]
  },
  {
   "cell_type": "markdown",
   "metadata": {},
   "source": [
    "### Replacing"
   ]
  },
  {
   "cell_type": "markdown",
   "metadata": {},
   "source": [
    "`Rule`s are used for many things in Symata, including replacement. Replacement is a key ingredient in the implementation of functions.\n",
    "\n",
    "When applied, this rule matches and does a replacement on any expression with `Head` `f` and a `List` of two elements as the sole argument."
   ]
  },
  {
   "cell_type": "code",
   "execution_count": 72,
   "metadata": {
    "collapsed": false
   },
   "outputs": [
    {
     "ename": "MethodError",
     "evalue": "MethodError: no method matching latex_string_binary(::Void, ::Symata.Mxpr{:Rule})",
     "output_type": "error",
     "traceback": [
      "MethodError: no method matching latex_string_binary(::Void, ::Symata.Mxpr{:Rule})",
      "",
      " in latex_string(::Void, ::Symata.Mxpr{:Rule}) at /home/lapeyre/.julia/v0.6/Symata/src/latex.jl:143",
      " in latex_display(::Symata.Mxpr{:Rule}) at /home/lapeyre/.julia/v0.6/Symata/src/latex.jl:111",
      " in symata_execute_request(::ZMQ.Socket, ::IJulia.Msg) at /home/lapeyre/.julia/v0.6/Symata/src/isymata.jl:212",
      " in eventloop(::ZMQ.Socket) at /home/lapeyre/.julia/v0.6/IJulia/src/eventloop.jl:8",
      " in (::IJulia.##9#15)() at ./task.jl:363"
     ]
    }
   ],
   "source": [
    "f([x_,y_]) => p(x+y)"
   ]
  },
  {
   "cell_type": "code",
   "execution_count": 73,
   "metadata": {
    "collapsed": false
   },
   "outputs": [
    {
     "data": {
      "text/latex": [
       "$$ f \\!  \\left( c \\right)  + f \\!  \\left( [x + y,y] \\right)  + g \\!  \\left( [a,b] \\right)  $$"
      ],
      "text/plain": [
       "L\"$$ f \\!  \\left( c \\right)  + f \\!  \\left( [x + y,y] \\right)  + g \\!  \\left( [a,b] \\right)  $$\""
      ]
     },
     "execution_count": 73,
     "metadata": {},
     "output_type": "execute_result"
    }
   ],
   "source": [
    "expr = f([x+y,y]) + f(c) + g([a,b])"
   ]
  },
  {
   "cell_type": "code",
   "execution_count": 74,
   "metadata": {
    "collapsed": false,
    "scrolled": true
   },
   "outputs": [
    {
     "data": {
      "text/latex": [
       "$$ f \\!  \\left( c \\right)  + g \\!  \\left( [a,b] \\right)  + p \\!  \\left( x + 2 \\ y \\right)  $$"
      ],
      "text/plain": [
       "L\"$$ f \\!  \\left( c \\right)  + g \\!  \\left( [a,b] \\right)  + p \\!  \\left( x + 2 \\ y \\right)  $$\""
      ]
     },
     "execution_count": 74,
     "metadata": {},
     "output_type": "execute_result"
    }
   ],
   "source": [
    "ReplaceAll( expr, f([x_,y_]) => p(x+y))"
   ]
  },
  {
   "cell_type": "markdown",
   "metadata": {},
   "source": [
    "There are several things to note here. \n",
    "\n",
    "- The pattern `x_` puts no restrictions on the match; any expression will match. The name of the pattern `x` only serves to identify it later during a replacement. \n",
    "\n",
    "- Here `x_` has matched `x+y`, but these two uses of `x` are not confused in the result. That is, in `x_`, the symbol `x` is a dummy variable. \n",
    "\n",
    "- The expression `f(c)` has a matching `Head`, but not matching arguments, so `f(c)` fails to match. Likewise, the expression `g([a,b])` has matching arguments, but not matching head.\n",
    "\n",
    "- The expression `f([x+y,y])` matches, and the replacement is made in (a copy of) `expr`.  But, Symata alays evaluates expressions to a fixed point. So `y+y` is replaced by `2y`, and the terms in `expr` are rearranged into the canonical order."
   ]
  },
  {
   "cell_type": "code",
   "execution_count": 75,
   "metadata": {
    "collapsed": true
   },
   "outputs": [],
   "source": [
    "ClearAll(expr)"
   ]
  },
  {
   "cell_type": "markdown",
   "metadata": {},
   "source": [
    "We can match and replace with a pattern with `Head` equal to `Plus`"
   ]
  },
  {
   "cell_type": "code",
   "execution_count": 76,
   "metadata": {
    "collapsed": false
   },
   "outputs": [
    {
     "data": {
      "text/latex": [
       "$$ b \\ y \\ z $$"
      ],
      "text/plain": [
       "L\"$$ b \\ y \\ z $$\""
      ]
     },
     "execution_count": 76,
     "metadata": {},
     "output_type": "execute_result"
    }
   ],
   "source": [
    "ReplaceAll( z*y + b , x_ + y_ => x * y )"
   ]
  },
  {
   "cell_type": "code",
   "execution_count": 77,
   "metadata": {
    "collapsed": false
   },
   "outputs": [
    {
     "data": {
      "text/latex": [
       "$$ b + c + y \\ z $$"
      ],
      "text/plain": [
       "L\"$$ b + c + y \\ z $$\""
      ]
     },
     "execution_count": 77,
     "metadata": {},
     "output_type": "execute_result"
    }
   ],
   "source": [
    "ReplaceAll( z*y + b +c , x_ + y_ => x * y)"
   ]
  },
  {
   "cell_type": "markdown",
   "metadata": {},
   "source": [
    "This failed because `Plus` with two terms does not match `Plus` with three terms. But, we actually *do* want this to match. Implementing associative-commuatative matching is a major goal of Symata. Anyone want to give it a try ?"
   ]
  }
 ],
 "metadata": {
  "kernelspec": {
   "display_name": "Julia 0.6.0-dev",
   "language": "julia",
   "name": "julia-0.6"
  },
  "language_info": {
   "file_extension": ".jl",
   "mimetype": "application/julia",
   "name": "julia",
   "version": "0.6.0"
  }
 },
 "nbformat": 4,
 "nbformat_minor": 1
}
